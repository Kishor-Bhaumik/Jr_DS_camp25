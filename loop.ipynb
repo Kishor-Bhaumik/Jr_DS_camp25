{
 "cells": [
  {
   "cell_type": "markdown",
   "metadata": {},
   "source": [
    "\n",
    "<img src=\"https://raw.githubusercontent.com/Kishor-Bhaumik/DSC-LLNL/main/loop_pic.jpg\" alt=\"Title\" width=\"1000\" height=\"700\">\n",
    "\n",
    "* Instead of telling the computer to do something once, then again, then again, we can tell it to do it 'this many times' or 'until this happens'.\"\n",
    "* Computers are great at doing repetitive tasks without getting bored or making mistakes. That's where \"loops\" come in.\n",
    "\n",
    "# Understanding Loops in Programming\n",
    "\n",
    "Loops are fundamental programming constructs that allow you to execute a block of code repeatedly. This process of repetition is known as **iteration**. Each time the statements within the loop are executed, it's referred to as a **pass** or an **iteration**.\n",
    "\n",
    "There are two primary types of loops:\n",
    "\n",
    "* **Definite Iteration:** These loops repeat an action a predefined number of times.\n",
    "* **Indefinite Iteration:** These loops perform an action until the program determines it needs to stop, based on a condition.\n"
   ]
  },
  {
   "cell_type": "code",
   "execution_count": 2,
   "metadata": {},
   "outputs": [
    {
     "name": "stdout",
     "output_type": "stream",
     "text": [
      "I will not throw paper airplanes in class\n",
      "I will not throw paper airplanes in class\n",
      "I will not throw paper airplanes in class\n",
      "I will not throw paper airplanes in class\n",
      "I will not throw paper airplanes in class\n"
     ]
    }
   ],
   "source": [
    "print (\"I will not throw paper airplanes in class\")\n",
    "print (\"I will not throw paper airplanes in class\")\n",
    "print (\"I will not throw paper airplanes in class\")\n",
    "print (\"I will not throw paper airplanes in class\")\n",
    "print (\"I will not throw paper airplanes in class\")\n",
    "#....."
   ]
  },
  {
   "cell_type": "code",
   "execution_count": 28,
   "metadata": {},
   "outputs": [
    {
     "name": "stdout",
     "output_type": "stream",
     "text": [
      "I will not throw paper airplanes in class\n",
      "I will not throw paper airplanes in class\n",
      "I will not throw paper airplanes in class\n",
      "I will not throw paper airplanes in class\n",
      "I will not throw paper airplanes in class\n"
     ]
    }
   ],
   "source": [
    "for i in range(5):\n",
    "    print(\"I will not throw paper airplanes in class\")"
   ]
  },
  {
   "cell_type": "markdown",
   "metadata": {},
   "source": [
    "## Definite Iteration: The `for` Loop\n",
    "\n",
    "The `for` loop is an example of **definite iteration**. It's used when you want to repeat a task a given number of times or to loop through every item in a sequence like a list or a string."
   ]
  },
  {
   "cell_type": "markdown",
   "metadata": {},
   "source": [
    "## The `range()` Function\n",
    "\n",
    "The `range()` function is a built-in Python function commonly used with `for` loops to generate a sequence of numbers. It can be used in a few ways:\n",
    "\n",
    "* `range(stop)`: Generates numbers starting from 0 up to (but not including) `stop`. The step defaults to 1.\n",
    "* `range(startIndex, endIndex)`: Generates numbers starting from `startIndex` up to (but not including) `endIndex`. The step defaults to 1.\n",
    "* `range(startIndex, endIndex, step)`: Generates numbers starting from `startIndex`, up to (but not including) `endIndex`, with a specified `step`."
   ]
  },
  {
   "cell_type": "code",
   "execution_count": 4,
   "metadata": {},
   "outputs": [
    {
     "name": "stdout",
     "output_type": "stream",
     "text": [
      "range(10): [0, 1, 2, 3, 4, 5, 6, 7, 8, 9]\n",
      " \n",
      "range(1, 8): [1, 2, 3, 4, 5, 6, 7]\n",
      " \n",
      "range(0, 20, 5): [0, 5, 10, 15]\n"
     ]
    }
   ],
   "source": [
    "# Examples of range()\n",
    "print(\"range(10):\", list(range(10)))  # [0, 1, 2, 3, 4, 5, 6, 7, 8, 9]\n",
    "print(\" \")\n",
    "print(\"range(1, 8):\", list(range(1, 8)))  # [1, 2, 3, 4, 5, 6, 7]\n",
    "print(\" \")\n",
    "print(\"range(0, 20, 5):\", list(range(0, 20, 5)))  # [0, 5, 10, 15]"
   ]
  },
  {
   "cell_type": "markdown",
   "metadata": {},
   "source": [
    "## `for` Loop Examples\n",
    "\n",
    "Here are various examples demonstrating the use of `for` loops."
   ]
  },
  {
   "cell_type": "code",
   "execution_count": 5,
   "metadata": {},
   "outputs": [
    {
     "name": "stdout",
     "output_type": "stream",
     "text": [
      "John\n",
      "Mary\n",
      "Audrey\n"
     ]
    }
   ],
   "source": [
    "# Example 1: Looping through a list of strings\n",
    "L = [\"John\", \"Mary\", \"Audrey\"]\n",
    "for item in L:\n",
    "    print(item)"
   ]
  },
  {
   "cell_type": "code",
   "execution_count": 6,
   "metadata": {},
   "outputs": [
    {
     "name": "stdout",
     "output_type": "stream",
     "text": [
      "15\n"
     ]
    }
   ],
   "source": [
    "# Example 2: Calculating sum of numbers in a list\n",
    "L = [1, 2, 3, 4, 5]\n",
    "total = 0\n",
    "for item in L:\n",
    "    total = total + item\n",
    "print(total)"
   ]
  },
  {
   "cell_type": "code",
   "execution_count": 7,
   "metadata": {},
   "outputs": [
    {
     "name": "stdout",
     "output_type": "stream",
     "text": [
      "1\n",
      "2\n",
      "3\n",
      "4\n",
      "5\n",
      "6\n",
      "7\n",
      "8\n",
      "9\n",
      "10\n",
      "Lift off!\n"
     ]
    }
   ],
   "source": [
    "# Example 3: Launch count-up\n",
    "# Start count at 1 and go to 10\n",
    "for index in range(1, 11, 1):\n",
    "    print(index)\n",
    "print(\"Lift off!\")"
   ]
  },
  {
   "cell_type": "code",
   "execution_count": 8,
   "metadata": {},
   "outputs": [
    {
     "name": "stdout",
     "output_type": "stream",
     "text": [
      "Begin count-down. Launch in...\n",
      "10\n",
      "9\n",
      "8\n",
      "7\n",
      "6\n",
      "5\n",
      "4\n",
      "3\n",
      "2\n",
      "1\n",
      "Lift off !!\n"
     ]
    }
   ],
   "source": [
    "# Example 4: Launch count-down\n",
    "# Start count at 10 and go down to zero\n",
    "print(\"Begin count-down. Launch in...\")\n",
    "for index in range(10, 0, -1):\n",
    "    print(index)\n",
    "print(\"Lift off !!\")"
   ]
  },
  {
   "cell_type": "code",
   "execution_count": 10,
   "metadata": {},
   "outputs": [
    {
     "name": "stdout",
     "output_type": "stream",
     "text": [
      "The factorial of 3 is 6\n"
     ]
    }
   ],
   "source": [
    "# Example 5: Factorial using count-up range()\n",
    "# e.g., 6! = 6 * 5 * 4 * 3 * 2 * 1\n",
    "n = int(input(\"Enter a number: \"))\n",
    "factorial = 1\n",
    "for index in range(1, n + 1, 1):  # Starts at 1 and counts up to n+1\n",
    "    factorial = factorial * index\n",
    "print(f\"The factorial of {n} is {factorial}\")"
   ]
  },
  {
   "cell_type": "code",
   "execution_count": 11,
   "metadata": {},
   "outputs": [
    {
     "name": "stdout",
     "output_type": "stream",
     "text": [
      "The factorial of 3 is 6\n"
     ]
    }
   ],
   "source": [
    "# Example 6: Factorial using count-down range()\n",
    "# e.g., 6! = 6 * 5 * 4 * 3 * 2 * 1\n",
    "n = int(input(\"Enter a number: \"))\n",
    "factorial = 1\n",
    "for index in range(n, 0, -1):  # Starts at n and counts down to 0\n",
    "    factorial = factorial * index\n",
    "print(f\"The factorial of {n} is {factorial}\")"
   ]
  },
  {
   "cell_type": "code",
   "execution_count": 12,
   "metadata": {},
   "outputs": [
    {
     "name": "stdout",
     "output_type": "stream",
     "text": [
      "Even numbers (Method 1):\n",
      "2\n",
      "4\n",
      "6\n",
      "8\n",
      "10\n",
      "12\n",
      "14\n",
      "16\n",
      "18\n",
      "20\n"
     ]
    }
   ],
   "source": [
    "# Example 7: Printing even numbers (Method 1 - using if condition)\n",
    "# Print all even numbers between 1 and 20, including 20.\n",
    "print(\"Even numbers (Method 1):\")\n",
    "for i in range(2, 20 + 1, 1):\n",
    "    if i % 2 == 0:\n",
    "        print(i)"
   ]
  },
  {
   "cell_type": "code",
   "execution_count": 13,
   "metadata": {},
   "outputs": [
    {
     "name": "stdout",
     "output_type": "stream",
     "text": [
      "Even numbers (Method 2):\n",
      "2\n",
      "4\n",
      "6\n",
      "8\n",
      "10\n",
      "12\n",
      "14\n",
      "16\n",
      "18\n",
      "20\n"
     ]
    }
   ],
   "source": [
    "# Example 8: Printing even numbers (Method 2 - using step in range)\n",
    "print(\"Even numbers (Method 2):\")\n",
    "for i in range(2, 20 + 1, 2):\n",
    "    print(i)"
   ]
  },
  {
   "cell_type": "code",
   "execution_count": 14,
   "metadata": {},
   "outputs": [
    {
     "name": "stdout",
     "output_type": "stream",
     "text": [
      "H\n",
      "e\n",
      "l\n",
      "l\n",
      "o\n",
      " \n",
      "W\n",
      "o\n",
      "r\n",
      "l\n",
      "d\n"
     ]
    }
   ],
   "source": [
    "# Example 9: Traversing a string\n",
    "# Print each letter of a given string on a new line.\n",
    "s = \"Hello World\"\n",
    "for index in range(0, len(s)):\n",
    "    print(s[index])\n",
    "\n",
    "# Remember:\n",
    "# - We can get a given character in a string using []\n",
    "# - Strings are 0-indexed (counting starts at 0)"
   ]
  },
  {
   "cell_type": "code",
   "execution_count": 15,
   "metadata": {},
   "outputs": [
    {
     "name": "stdout",
     "output_type": "stream",
     "text": [
      "dlroW olleH\n"
     ]
    }
   ],
   "source": [
    "# Example 10: Reversing a string\n",
    "# Reverse the characters in a string.\n",
    "s = \"Hello World\"\n",
    "reversedStr = \"\"\n",
    "for i in range(len(s) - 1, -1, -1):\n",
    "    reversedStr += s[i]  # shortcut\n",
    "    # reversedStr = reversedStr + s[i]  # traditional\n",
    "print(reversedStr)"
   ]
  },
  {
   "cell_type": "markdown",
   "metadata": {},
   "source": [
    "## Indefinite Iteration: The `while` Loop\n",
    "\n",
    "Unlike the `for` loop, which is a **definite loop** that runs a fixed number of times, the `while` loop is an **indefinite loop**. This means it continues to run as long as a specified boolean condition remains true. The loop will terminate when the boolean expression evaluates to `false`."
   ]
  },
  {
   "cell_type": "markdown",
   "metadata": {},
   "source": [
    "## `while` Loop Examples\n",
    "\n",
    "Let's see how `while` loops work with some examples, and compare them to `for` loops where appropriate."
   ]
  },
  {
   "cell_type": "code",
   "execution_count": 16,
   "metadata": {},
   "outputs": [
    {
     "name": "stdout",
     "output_type": "stream",
     "text": [
      "For loop example (0-10):\n",
      "0\n",
      "1\n",
      "2\n",
      "3\n",
      "4\n",
      "5\n",
      "6\n",
      "7\n",
      "8\n",
      "9\n",
      "10\n",
      "\n",
      "While loop example (0-10):\n",
      "0\n",
      "1\n",
      "2\n",
      "3\n",
      "4\n",
      "5\n",
      "6\n",
      "7\n",
      "8\n",
      "9\n",
      "10\n"
     ]
    }
   ],
   "source": [
    "# Example 1: Counting from 0 to 10\n",
    "# For loop example:\n",
    "print(\"For loop example (0-10):\")\n",
    "for i in range(0, 10 + 1):\n",
    "    print(i)\n",
    "\n",
    "# While loop example:\n",
    "print(\"\\nWhile loop example (0-10):\")\n",
    "i = 0\n",
    "while i <= 10:\n",
    "    print(i)\n",
    "    i = i + 1"
   ]
  },
  {
   "cell_type": "code",
   "execution_count": 17,
   "metadata": {},
   "outputs": [
    {
     "name": "stdout",
     "output_type": "stream",
     "text": [
      "For loop example (string traversal):\n",
      "H\n",
      "e\n",
      "l\n",
      "l\n",
      "o\n",
      " \n",
      "W\n",
      "o\n",
      "r\n",
      "l\n",
      "d\n",
      "\n",
      "While loop example (string traversal):\n",
      "H\n",
      "e\n",
      "l\n",
      "l\n",
      "o\n",
      " \n",
      "W\n",
      "o\n",
      "r\n",
      "l\n",
      "d\n"
     ]
    }
   ],
   "source": [
    "# Example 2: Traversing a string\n",
    "# Print out a given string such that each letter is on a new line.\n",
    "\n",
    "# For loop example:\n",
    "print(\"For loop example (string traversal):\")\n",
    "s = \"Hello World\"\n",
    "for index in range(0, len(s)):\n",
    "    print(s[index])\n",
    "\n",
    "# While loop example:\n",
    "print(\"\\nWhile loop example (string traversal):\")\n",
    "s = \"Hello World\"\n",
    "index = 0\n",
    "while index < len(s):\n",
    "    print(s[index])\n",
    "    index += 1  # Short-cut for index = index + 1"
   ]
  },
  {
   "cell_type": "markdown",
   "metadata": {},
   "source": [
    "## Why Use `while` Loops?\n",
    "\n",
    "As seen in the previous examples, sometimes both `for` and `while` loops can accomplish the same task. However, `while` loops are particularly useful in scenarios where the number of iterations is **not known beforehand**. They excel at continuing iteration until a specific condition becomes false."
   ]
  },
  {
   "cell_type": "markdown",
   "metadata": {},
   "source": [
    "## Practical `while` Loop Examples\n",
    "\n",
    "These examples highlight situations where a `while` loop is a more natural or necessary choice."
   ]
  },
  {
   "cell_type": "code",
   "execution_count": 18,
   "metadata": {},
   "outputs": [
    {
     "name": "stdout",
     "output_type": "stream",
     "text": [
      "Ask the Magic 8 Ball!\n",
      "My sources say no\n"
     ]
    }
   ],
   "source": [
    "# Example 1: Magic 8 Ball\n",
    "# This program continues to ask questions until the user presses enter without typing a question.\n",
    "import random  # has functions to generate random num\n",
    "\n",
    "print(\"Ask the Magic 8 Ball!\")\n",
    "question = input(\"Ask the magic 8 ball: (press enter to quit) \")\n",
    "while question != \"\":\n",
    "    answers = random.randint(1, 4)  # number between 1 and 4\n",
    "    if answers == 1:\n",
    "        print(\"It is certain\")\n",
    "    elif answers == 2:\n",
    "        print(\"Outlook is good\")\n",
    "    elif answers == 3:\n",
    "        print(\"Ask again later\")\n",
    "    elif answers == 4:\n",
    "        print(\"My sources say no\")\n",
    "    question = input(\"Ask the magic 8 ball: (press enter to quit) \")"
   ]
  },
  {
   "cell_type": "code",
   "execution_count": 20,
   "metadata": {},
   "outputs": [],
   "source": [
    "# Example 2: Password Input (Method 1 - condition in while statement)\n",
    "# Ask user for a 4-digit passcode, until they enter exactly 4 characters.\n",
    "s = input(\"Enter a 4-digit passcode: \")\n",
    "while len(s) != 4:\n",
    "    s = input(\"Enter a 4-digit passcode: \")"
   ]
  },
  {
   "cell_type": "code",
   "execution_count": 21,
   "metadata": {},
   "outputs": [
    {
     "name": "stdout",
     "output_type": "stream",
     "text": [
      "Passcode accepted!\n"
     ]
    }
   ],
   "source": [
    "# Example 3: Password Input (Method 2 - using `break`)\n",
    "# Another way to write the passcode validation code, using `while True` and `break`.\n",
    "\n",
    "while True:\n",
    "    s = input(\"Enter a 4-digit passcode: \")\n",
    "    if len(s) == 4:\n",
    "        break  # If condition is true, break out of loop.\n",
    "print(\"Passcode accepted!\")"
   ]
  },
  {
   "cell_type": "markdown",
   "metadata": {},
   "source": [
    "## Practice Exercises\n",
    "\n",
    "Try these exercises to practice your loop skills!"
   ]
  },
  {
   "cell_type": "code",
   "execution_count": 22,
   "metadata": {},
   "outputs": [],
   "source": [
    "# Exercise 1: Create a simple pattern\n",
    "# Use a for loop to print this pattern:\n",
    "# *\n",
    "# **\n",
    "# ***\n",
    "# ****\n",
    "# *****\n",
    "\n",
    "# Your code here:"
   ]
  },
  {
   "cell_type": "code",
   "execution_count": 23,
   "metadata": {},
   "outputs": [],
   "source": [
    "# Exercise 2: Count vowels in a string\n",
    "# Write code to count how many vowels (a, e, i, o, u) are in a given string\n",
    "\n",
    "text = \"Hello World\"\n",
    "# Your code here:"
   ]
  },
  {
   "cell_type": "code",
   "execution_count": 24,
   "metadata": {},
   "outputs": [],
   "source": [
    "# Exercise 3: Multiplication table\n",
    "# Create a multiplication table for a given number (let's say 7)\n",
    "# Output should be: 7 x 1 = 7, 7 x 2 = 14, etc. up to 7 x 10 = 70\n",
    "\n",
    "# Your code here:\n"
   ]
  },
  {
   "cell_type": "markdown",
   "metadata": {},
   "source": [
    "## Basic Data Science Libraries  "
   ]
  },
  {
   "cell_type": "markdown",
   "metadata": {},
   "source": [
    "# NumPy - Working with Numbers\n",
    "\n",
    "**NumPy** is like a supercharged calculator for Python! Instead of working with one number at a time, NumPy lets you work with lists of numbers (called arrays) all at once.\n",
    "\n",
    "Think of it like this: If you want to add 10 to each grade in your class, NumPy can do it in one line instead of writing a loop!"
   ]
  },
  {
   "cell_type": "code",
   "execution_count": 25,
   "metadata": {},
   "outputs": [
    {
     "name": "stdout",
     "output_type": "stream",
     "text": [
      "Original scores: [85 92 78 96 88 73 91]\n",
      "With bonus points: [ 90  97  83 101  93  78  96]\n",
      "Average score: 86.14285714285714\n",
      "Highest score: 96\n",
      "Lowest score: 73\n"
     ]
    }
   ],
   "source": [
    "import numpy as np\n",
    "\n",
    "# Create an array of test scores\n",
    "test_scores = np.array([85, 92, 78, 96, 88, 73, 91])\n",
    "print(\"Original scores:\", test_scores)\n",
    "\n",
    "# Add 5 bonus points to everyone - all at once!\n",
    "bonus_scores = test_scores + 5\n",
    "print(\"With bonus points:\", bonus_scores)\n",
    "\n",
    "# Calculate class statistics\n",
    "print(\"Average score:\", np.mean(test_scores))\n",
    "print(\"Highest score:\", np.max(test_scores))\n",
    "print(\"Lowest score:\", np.min(test_scores))"
   ]
  },
  {
   "cell_type": "markdown",
   "metadata": {},
   "source": [
    "# Matplotlib - Creating Charts and Graphs\n",
    "\n",
    "**Matplotlib** is Python's drawing tool for creating charts, graphs, and plots. It's like having a digital graphing calculator that can make beautiful visualizations!\n",
    "\n",
    "Perfect for showing your data in pictures instead of just numbers."
   ]
  },
  {
   "cell_type": "markdown",
   "metadata": {},
   "source": []
  },
  {
   "cell_type": "code",
   "execution_count": 26,
   "metadata": {},
   "outputs": [
    {
     "data": {
      "image/png": "[encoded data removed]",
      "text/plain": [
       "<Figure size 800x500 with 1 Axes>"
      ]
     },
     "metadata": {},
     "output_type": "display_data"
    },
    {
     "data": {
      "image/png": "[encoded data removed]",
      "text/plain": [
       "<Figure size 800x500 with 1 Axes>"
      ]
     },
     "metadata": {},
     "output_type": "display_data"
    }
   ],
   "source": [
    "import matplotlib.pyplot as plt\n",
    "\n",
    "# Data: Hours studied vs Test scores\n",
    "hours_studied = [1, 2, 3, 4, 5, 6, 7]\n",
    "test_scores = [65, 70, 75, 85, 90, 93, 95]\n",
    "\n",
    "# Create a line plot\n",
    "plt.figure(figsize=(8, 5))\n",
    "plt.plot(hours_studied, test_scores, marker='o', color='blue')\n",
    "plt.title('Study Time vs Test Scores')\n",
    "plt.xlabel('Hours Studied')\n",
    "plt.ylabel('Test Score')\n",
    "plt.grid(True)\n",
    "plt.show()\n",
    "\n",
    "# Create a bar chart of favorite subjects\n",
    "subjects = ['Math', 'Science', 'English', 'History']\n",
    "votes = [25, 30, 20, 15]\n",
    "\n",
    "plt.figure(figsize=(8, 5))\n",
    "plt.bar(subjects, votes, color=['red', 'green', 'blue', 'orange'])\n",
    "plt.title('Favorite Subjects Survey')\n",
    "plt.ylabel('Number of Votes')\n",
    "plt.show()"
   ]
  },
  {
   "cell_type": "markdown",
   "metadata": {},
   "source": [
    "# SciPy - Advanced Math Made Easy\n",
    "\n",
    "**SciPy** is like having a scientific calculator with superpowers! It can solve complex math problems, work with statistics, and even help with science experiments.\n",
    "\n",
    "It's built on top of NumPy and adds even more mathematical tools."
   ]
  },
  {
   "cell_type": "code",
   "execution_count": 27,
   "metadata": {},
   "outputs": [
    {
     "name": "stdout",
     "output_type": "stream",
     "text": [
      "Plant Heights: [12, 15, 13, 16, 14, 17, 13, 15, 16, 14]\n",
      "Average height: 14.5 cm\n",
      "Standard deviation: 1.5 cm\n",
      "\n",
      "Normality test p-value: 0.484\n",
      "Data appears to be normally distributed! 📊\n"
     ]
    },
    {
     "name": "stderr",
     "output_type": "stream",
     "text": [
      "/opt/anaconda3/lib/python3.12/site-packages/scipy/stats/_axis_nan_policy.py:531: UserWarning: kurtosistest only valid for n>=20 ... continuing anyway, n=10\n",
      "  res = hypotest_fun_out(*samples, **kwds)\n"
     ]
    }
   ],
   "source": [
    "from scipy import stats\n",
    "import numpy as np\n",
    "\n",
    "# Generate some sample data (like measuring plant heights)\n",
    "plant_heights = [12, 15, 13, 16, 14, 17, 13, 15, 16, 14]\n",
    "\n",
    "# Calculate detailed statistics\n",
    "mean_height = np.mean(plant_heights)\n",
    "std_height = np.std(plant_heights)\n",
    "\n",
    "print(f\"Plant Heights: {plant_heights}\")\n",
    "print(f\"Average height: {mean_height:.1f} cm\")\n",
    "print(f\"Standard deviation: {std_height:.1f} cm\")\n",
    "\n",
    "# Check if data follows a normal distribution\n",
    "# (This is useful in science experiments!)\n",
    "statistic, p_value = stats.normaltest(plant_heights)\n",
    "print(f\"\\nNormality test p-value: {p_value:.3f}\")\n",
    "if p_value > 0.05:\n",
    "    print(\"Data appears to be normally distributed! 📊\")\n",
    "else:\n",
    "    print(\"Data might not be normally distributed 🤔\")"
   ]
  },
  {
   "cell_type": "code",
   "execution_count": null,
   "metadata": {},
   "outputs": [],
   "source": []
  }
 ],
 "metadata": {
  "kernelspec": {
   "display_name": "base",
   "language": "python",
   "name": "python3"
  },
  "language_info": {
   "codemirror_mode": {
    "name": "ipython",
    "version": 3
   },
   "file_extension": ".py",
   "mimetype": "text/x-python",
   "name": "python",
   "nbconvert_exporter": "python",
   "pygments_lexer": "ipython3",
   "version": "3.12.7"
  }
 },
 "nbformat": 4,
 "nbformat_minor": 4
}
